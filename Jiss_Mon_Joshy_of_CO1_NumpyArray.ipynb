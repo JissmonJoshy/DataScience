{
  "nbformat": 4,
  "nbformat_minor": 0,
  "metadata": {
    "colab": {
      "provenance": [],
      "include_colab_link": true
    },
    "kernelspec": {
      "name": "python3",
      "display_name": "Python 3"
    },
    "language_info": {
      "name": "python"
    }
  },
  "cells": [
    {
      "cell_type": "markdown",
      "metadata": {
        "id": "view-in-github",
        "colab_type": "text"
      },
      "source": [
        "<a href=\"https://colab.research.google.com/github/JissmonJoshy/DataScience/blob/main/Jiss_Mon_Joshy_of_CO1_NumpyArray.ipynb\" target=\"_parent\"><img src=\"https://colab.research.google.com/assets/colab-badge.svg\" alt=\"Open In Colab\"/></a>"
      ]
    },
    {
      "cell_type": "code",
      "source": [
        "# program to create an array of all the even integers from 20 to 80\n",
        "\n",
        "import numpy as np\n",
        "a=np.arange(20,81,2)\n",
        "print(a)"
      ],
      "metadata": {
        "id": "cfWur71N9aGi",
        "colab": {
          "base_uri": "https://localhost:8080/"
        },
        "outputId": "719ccfcc-f369-46a1-e31a-d1f6c06fc2d9"
      },
      "execution_count": null,
      "outputs": [
        {
          "output_type": "stream",
          "name": "stdout",
          "text": [
            "[20 22 24 26 28 30 32 34 36 38 40 42 44 46 48 50 52 54 56 58 60 62 64 66\n",
            " 68 70 72 74 76 78 80]\n"
          ]
        }
      ]
    },
    {
      "cell_type": "code",
      "execution_count": null,
      "metadata": {
        "id": "RmYAaiCX73Y2",
        "colab": {
          "base_uri": "https://localhost:8080/"
        },
        "outputId": "9b5535fe-1687-4d89-aa0e-79d0b04a65af"
      },
      "outputs": [
        {
          "output_type": "stream",
          "name": "stdout",
          "text": [
            "[1 2 3 4 5]\n",
            "[3 2 2 4 6]\n",
            "Greater Than: [False False  True False False]\n",
            "Equal: [False  True  True  True False]\n",
            "Less Than: [ True  True False  True  True]\n"
          ]
        }
      ],
      "source": [
        "#Write a program to create a numpy array and perform element-wise comparison (greater, greater_equal, less than, lesser_equal).\n",
        "\n",
        "a = np.array([1, 2, 3, 4, 5])\n",
        "b = np.array([3, 2, 2, 4, 6])\n",
        "print(a)\n",
        "print(b)\n",
        "print(\"Greater Than:\",np.greater(a,b))\n",
        "print(\"Equal:\",np.greater_equal(a,b))\n",
        "print(\"Less Than:\",np.less_equal(a,b))"
      ]
    },
    {
      "cell_type": "code",
      "source": [
        "#program to multiply two given arrays of same size\n",
        "\n",
        "a1 = np.array([4,9,2])\n",
        "a2 = np.array([3 ,8 , 2])\n",
        "print(a1)\n",
        "print(a2)\n",
        "x=np.multiply(a1,a2)\n",
        "print(x)"
      ],
      "metadata": {
        "id": "js_mIfpL9M6z",
        "colab": {
          "base_uri": "https://localhost:8080/"
        },
        "outputId": "97f44618-a24a-4c69-f592-6763332d2e3f"
      },
      "execution_count": null,
      "outputs": [
        {
          "output_type": "stream",
          "name": "stdout",
          "text": [
            "[4 9 2]\n",
            "[3 8 2]\n",
            "[12 72  4]\n"
          ]
        }
      ]
    },
    {
      "cell_type": "code",
      "source": [
        "#Program to save a given array to a text file and load it\n",
        "\n",
        "import os\n",
        "\n",
        "a1 = np.arange(start=0,stop=16).reshape(4,4)\n",
        "print(a1)\n",
        "\n",
        "h = 'c1 c2 c3 c4'\n",
        "np.savetxt(\"file.txt\",a1,fmt=\"%d\",header=h)\n",
        "print(\"\\nfile.txt of loadtxt()\\n\")\n",
        "print(np.loadtxt(\"file.txt\"))\n"
      ],
      "metadata": {
        "id": "ZcAcw9Cu9pYA",
        "colab": {
          "base_uri": "https://localhost:8080/"
        },
        "outputId": "4c7a5651-a252-4ed8-8797-abc90544bf15"
      },
      "execution_count": null,
      "outputs": [
        {
          "output_type": "stream",
          "name": "stdout",
          "text": [
            "[[ 0  1  2  3]\n",
            " [ 4  5  6  7]\n",
            " [ 8  9 10 11]\n",
            " [12 13 14 15]]\n",
            "\n",
            "file.txt of loadtxt()\n",
            "\n",
            "[[ 0.  1.  2.  3.]\n",
            " [ 4.  5.  6.  7.]\n",
            " [ 8.  9. 10. 11.]\n",
            " [12. 13. 14. 15.]]\n"
          ]
        }
      ]
    }
  ]
}