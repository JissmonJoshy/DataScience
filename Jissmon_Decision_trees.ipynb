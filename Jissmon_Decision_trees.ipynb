{
  "nbformat": 4,
  "nbformat_minor": 0,
  "metadata": {
    "colab": {
      "provenance": [],
      "include_colab_link": true
    },
    "kernelspec": {
      "name": "python3",
      "display_name": "Python 3"
    },
    "language_info": {
      "name": "python"
    }
  },
  "cells": [
    {
      "cell_type": "markdown",
      "metadata": {
        "id": "view-in-github",
        "colab_type": "text"
      },
      "source": [
        "<a href=\"https://colab.research.google.com/github/JissmonJoshy/DataScience/blob/main/Jissmon_Decision_trees.ipynb\" target=\"_parent\"><img src=\"https://colab.research.google.com/assets/colab-badge.svg\" alt=\"Open In Colab\"/></a>"
      ]
    },
    {
      "cell_type": "markdown",
      "source": [
        "**Aim:** Program to implement decision trees using any standard dataset available in the public domain and find the accuracy of the algorithm.\n",
        "\n",
        "**Short notes**\n",
        "\n",
        "Decision tree is a type of supervised learning algorithm (having a predefined target variable) that is mostly used in classification problems. It works for both categorical and continuous input and output variables. In this technique, we split the population or sample into two or more homogeneous sets (or sub-populations) based on most significant splitter / differentiator in input variables.\n",
        "\n",
        "**Used Python Packages**:\n",
        "\n",
        "**sklearn** :\n",
        "In python, sklearn is a machine learning package which include a lot of ML algorithms. Here, we are using some of its modules like train_test_split, DecisionTreeClassifier and accuracy_score.\n",
        "\n",
        "**NumPy** :\n",
        "It is a numeric python module which provides fast maths functions for calculations.\n",
        "It is used to read data in numpy arrays and for manipulation purpose.\n",
        "\n",
        "**Pandas** :\n",
        "Used to read and write different files.\n",
        "Data manipulation can be done easily with dataframes.\n",
        "\n",
        "\n",
        "\n",
        "**Important Terminology related to Tree based Algorithms**\n",
        "\n",
        "**Root Node**: It represents entire population or sample and this further gets divided into two or more homogeneous sets.\n",
        "\n",
        "**Splitting**: It is a process of dividing a node into two or more sub-nodes.\n",
        "\n",
        "**Decision Node**: When a sub-node splits into further sub-nodes, then it is called decision node.\n",
        "\n",
        "**Leaf/ Terminal Node**: Nodes do not split is called Leaf or Terminal node.\n",
        "\n",
        "**Pruning**: When we remove sub-nodes of a decision node, this process is called pruning. You can say opposite process of splitting.\n",
        "\n",
        "**Branch / Sub-Tree**: A sub section of entire tree is called branch or sub-tree.\n",
        "\n",
        "**Parent and Child Node**: A node, which is divided into sub-nodes is called parent node of sub-nodes where as sub-nodes are the child of parent node."
      ],
      "metadata": {
        "id": "-eE2JQwSjpKd"
      }
    },
    {
      "cell_type": "code",
      "source": [
        "#import the modules\n",
        "import numpy as np\n",
        "import pandas as pd\n",
        "from sklearn.model_selection import  train_test_split\n",
        "#load iris data\n",
        "df=pd.read_csv(\"https://raw.githubusercontent.com/JissmonJoshy/DataScience/main/iris-species%20(2).csv\")\n"
      ],
      "metadata": {
        "id": "UpR_j728kqGq"
      },
      "execution_count": null,
      "outputs": []
    },
    {
      "cell_type": "code",
      "source": [
        "#Display the number of rows & columns in dataframe\n",
        "print(\"number of rows & columns\",df.shape)\n",
        "df.columns"
      ],
      "metadata": {
        "id": "d1GxS-yOmXbd",
        "colab": {
          "base_uri": "https://localhost:8080/"
        },
        "outputId": "6f9ba004-eb50-4a80-e2c7-c179936ee84b"
      },
      "execution_count": null,
      "outputs": [
        {
          "output_type": "stream",
          "name": "stdout",
          "text": [
            "number of rows & columns (150, 6)\n"
          ]
        },
        {
          "output_type": "execute_result",
          "data": {
            "text/plain": [
              "Index(['Id', 'SepalLengthCm', 'SepalWidthCm', 'PetalLengthCm', 'PetalWidthCm',\n",
              "       'Species'],\n",
              "      dtype='object')"
            ]
          },
          "metadata": {},
          "execution_count": 14
        }
      ]
    },
    {
      "cell_type": "code",
      "source": [
        "#Perform Train Test Split\n",
        "x=df[['SepalLengthCm','SepalWidthCm','PetalLengthCm','PetalWidthCm']]\n",
        "y=df['Species']\n",
        "#print(x)\n",
        "#print(y)\n",
        "x_train,x_test,y_train,y_test=train_test_split(x,y,train_size=0.7,random_state=14,stratify=y)"
      ],
      "metadata": {
        "id": "RAI2Xe6gm1dH"
      },
      "execution_count": null,
      "outputs": []
    },
    {
      "cell_type": "code",
      "source": [
        "#Construct decission tree classifier with criterion='entropy' with min_samples_split to 50. Default value is 2\n",
        "from sklearn.tree import DecisionTreeClassifier\n",
        "from sklearn.metrics import accuracy_score\n",
        "data=DecisionTreeClassifier(criterion='entropy')\n",
        "data.fit(x_train,y_train)\n",
        "pred=data.predict(x_test)\n",
        "\n",
        "#Display Accuracy on test data\n",
        "acc=accuracy_score(y_test,pred)\n",
        "print(\"Accuracy =>\",acc)"
      ],
      "metadata": {
        "id": "HKJP1PH4oa7l",
        "colab": {
          "base_uri": "https://localhost:8080/"
        },
        "outputId": "8276b9c2-819d-448f-e789-5a253ac085ba"
      },
      "execution_count": null,
      "outputs": [
        {
          "output_type": "stream",
          "name": "stdout",
          "text": [
            "Accuracy => 0.9555555555555556\n"
          ]
        }
      ]
    },
    {
      "cell_type": "code",
      "source": [
        "#visualise the decision tree\n",
        "\n",
        "\n",
        "from sklearn.tree import export_graphviz\n",
        "from six import StringIO\n",
        "from IPython.display import Image\n",
        "import pydotplus\n",
        "\n"
      ],
      "metadata": {
        "id": "hnmJoObcuB7h"
      },
      "execution_count": null,
      "outputs": []
    },
    {
      "cell_type": "code",
      "source": [
        "from sklearn.metrics import confusion_matrix\n",
        "print(confusion_matrix(y_test,pred))"
      ],
      "metadata": {
        "colab": {
          "base_uri": "https://localhost:8080/"
        },
        "id": "6SrZmER3uXb-",
        "outputId": "f90c0f18-906c-4841-cc78-f4daf2da4ce7"
      },
      "execution_count": null,
      "outputs": [
        {
          "output_type": "stream",
          "name": "stdout",
          "text": [
            "[[15  0  0]\n",
            " [ 0 15  0]\n",
            " [ 0  2 13]]\n"
          ]
        }
      ]
    }
  ]
}